{
 "cells": [
  {
   "cell_type": "code",
   "execution_count": 66,
   "metadata": {
    "scrolled": true
   },
   "outputs": [
    {
     "name": "stderr",
     "output_type": "stream",
     "text": [
      "C:\\Users\\Divya\\Anaconda3\\lib\\site-packages\\ipykernel_launcher.py:34: ComplexWarning: Casting complex values to real discards the imaginary part\n"
     ]
    },
    {
     "data": {
      "image/png": "[encoded data removed]",
      "text/plain": [
       "<Figure size 432x288 with 1 Axes>"
      ]
     },
     "metadata": {},
     "output_type": "display_data"
    }
   ],
   "source": [
    "import numpy as np\n",
    "import matplotlib.pyplot as plt\n",
    "from numpy.lib.scimath import sqrt as csqrt\n",
    "\n",
    "def PM(U_19_5, freq):\n",
    "    alpha = 8.1E-3\n",
    "    beta = 0.74\n",
    "    gravity = 9.81\n",
    "#     U_19_5 = 1.026* U_10\n",
    "    freq_0 = gravity / (U_19_5*2*np.pi)\n",
    "#     cd = 1.3E-3\n",
    "    S = (alpha*gravity**2*(2*np.pi)**-4*freq**-5) *np.exp(-5/4*(freq_0/freq)**4)\n",
    "    return S\n",
    "\n",
    "L=100         #surface length\n",
    "N=128         #fft points\n",
    "delx= L/N     #shortest wavelength that can be resolved\n",
    "kf= 2*np.pi/L    #fundamental spatial freq.\n",
    "kny= (N/2)*kf #the highest freq. sampled\n",
    "num = len(S)\n",
    "z = np.zeros(num)\n",
    "z0 = np.zeros(num)\n",
    "\n",
    "# U_19_5 = 10 - 21 m/s\n",
    "U_19_5 = 20\n",
    "freq = np.linspace(-kny/2,kny/2,N); \n",
    "S = PM(U_19_5, freq)\n",
    "plt.plot(freq, S);\n",
    "# print(len(x))\n",
    "# print(len(freq))\n",
    "rho = np.random.random_sample()\n",
    "sig = np.random.random_sample()\n",
    "for i in range(len(S)):\n",
    "    z0[i] = np.sqrt(0.5)*csqrt(0.5*S[i]*kf)*(rho + 1j*sig)\n",
    "#     print(csqrt(0.5*S[i]*kf), (rho + 1j*sig))\n",
    "    z[i] = np.sqrt(0.5)*(z0[i] + np.conj(z0[i]))\n",
    "\n",
    "Z=np.fft.ifft(z);     #inverse dft for extracting surface elevations\n",
    "x = np.linspace(0,L,N)\n",
    "\n",
    "plt.plot(np.linspace(0,L,N),np.real(Z));\n"
   ]
  },
  {
   "cell_type": "code",
   "execution_count": null,
   "metadata": {},
   "outputs": [],
   "source": [
    "rho = np.random.random"
   ]
  },
  {
   "cell_type": "code",
   "execution_count": null,
   "metadata": {},
   "outputs": [],
   "source": [
    "rho = np.random"
   ]
  },
  {
   "cell_type": "code",
   "execution_count": null,
   "metadata": {},
   "outputs": [],
   "source": [
    "rho = np.rand"
   ]
  },
  {
   "cell_type": "code",
   "execution_count": 42,
   "metadata": {},
   "outputs": [
    {
     "data": {
      "text/plain": [
       "1.2"
      ]
     },
     "execution_count": 42,
     "metadata": {},
     "output_type": "execute_result"
    }
   ],
   "source": [
    "asd = 123\n",
    "1 + 1j*asd\n",
    "np.real(1.2 + 1j*asd)"
   ]
  }
 ],
 "metadata": {
  "kernelspec": {
   "display_name": "Python 3",
   "language": "python",
   "name": "python3"
  },
  "language_info": {
   "codemirror_mode": {
    "name": "ipython",
    "version": 3
   },
   "file_extension": ".py",
   "mimetype": "text/x-python",
   "name": "python",
   "nbconvert_exporter": "python",
   "pygments_lexer": "ipython3",
   "version": "3.6.5"
  },
  "latex_envs": {
   "LaTeX_envs_menu_present": true,
   "autoclose": false,
   "autocomplete": true,
   "bibliofile": "biblio.bib",
   "cite_by": "apalike",
   "current_citInitial": 1,
   "eqLabelWithNumbers": true,
   "eqNumInitial": 1,
   "hotkeys": {
    "equation": "Ctrl-E",
    "itemize": "Ctrl-I"
   },
   "labels_anchors": false,
   "latex_user_defs": false,
   "report_style_numbering": false,
   "user_envs_cfg": false
  }
 },
 "nbformat": 4,
 "nbformat_minor": 2
}
